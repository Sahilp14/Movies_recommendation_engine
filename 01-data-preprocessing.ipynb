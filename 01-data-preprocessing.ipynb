{
 "cells": [
  {
   "cell_type": "code",
   "execution_count": 1,
   "id": "164f337e",
   "metadata": {},
   "outputs": [],
   "source": [
    "import pandas as pd\n",
    "import numpy as np"
   ]
  },
  {
   "cell_type": "code",
   "execution_count": 2,
   "id": "83448131",
   "metadata": {},
   "outputs": [],
   "source": [
    "movies = pd.read_csv('tmdb_5000_movies.csv')\n",
    "credits = pd.read_csv('tmdb_5000_credits.csv')"
   ]
  },
  {
   "cell_type": "code",
   "execution_count": 3,
   "id": "b2e521ea",
   "metadata": {},
   "outputs": [
    {
     "name": "stdout",
     "output_type": "stream",
     "text": [
      "<class 'pandas.core.frame.DataFrame'>\n",
      "RangeIndex: 4803 entries, 0 to 4802\n",
      "Data columns (total 20 columns):\n",
      " #   Column                Non-Null Count  Dtype  \n",
      "---  ------                --------------  -----  \n",
      " 0   budget                4803 non-null   int64  \n",
      " 1   genres                4803 non-null   object \n",
      " 2   homepage              1712 non-null   object \n",
      " 3   id                    4803 non-null   int64  \n",
      " 4   keywords              4803 non-null   object \n",
      " 5   original_language     4803 non-null   object \n",
      " 6   original_title        4803 non-null   object \n",
      " 7   overview              4800 non-null   object \n",
      " 8   popularity            4803 non-null   float64\n",
      " 9   production_companies  4803 non-null   object \n",
      " 10  production_countries  4803 non-null   object \n",
      " 11  release_date          4802 non-null   object \n",
      " 12  revenue               4803 non-null   int64  \n",
      " 13  runtime               4801 non-null   float64\n",
      " 14  spoken_languages      4803 non-null   object \n",
      " 15  status                4803 non-null   object \n",
      " 16  tagline               3959 non-null   object \n",
      " 17  title                 4803 non-null   object \n",
      " 18  vote_average          4803 non-null   float64\n",
      " 19  vote_count            4803 non-null   int64  \n",
      "dtypes: float64(3), int64(4), object(13)\n",
      "memory usage: 750.6+ KB\n"
     ]
    }
   ],
   "source": [
    "movies.info()"
   ]
  },
  {
   "cell_type": "code",
   "execution_count": 4,
   "id": "ada0f443",
   "metadata": {},
   "outputs": [
    {
     "name": "stdout",
     "output_type": "stream",
     "text": [
      "<class 'pandas.core.frame.DataFrame'>\n",
      "RangeIndex: 4803 entries, 0 to 4802\n",
      "Data columns (total 4 columns):\n",
      " #   Column    Non-Null Count  Dtype \n",
      "---  ------    --------------  ----- \n",
      " 0   movie_id  4803 non-null   int64 \n",
      " 1   title     4803 non-null   object\n",
      " 2   cast      4803 non-null   object\n",
      " 3   crew      4803 non-null   object\n",
      "dtypes: int64(1), object(3)\n",
      "memory usage: 150.2+ KB\n"
     ]
    }
   ],
   "source": [
    "credits.info()"
   ]
  },
  {
   "cell_type": "code",
   "execution_count": 5,
   "id": "f55e8560",
   "metadata": {},
   "outputs": [],
   "source": [
    "# movies - title, genres, keywords, overview, production_companies, tagline\n",
    "# credits - castabs\n",
    "# we can join 2 dataframes based on movie_id "
   ]
  },
  {
   "cell_type": "code",
   "execution_count": 6,
   "id": "3bb324da",
   "metadata": {},
   "outputs": [],
   "source": [
    "merged_df = pd.merge(movies, credits, left_on='id', right_on='movie_id', how='inner')"
   ]
  },
  {
   "cell_type": "code",
   "execution_count": 7,
   "id": "0fa30cbb",
   "metadata": {},
   "outputs": [
    {
     "name": "stdout",
     "output_type": "stream",
     "text": [
      "<class 'pandas.core.frame.DataFrame'>\n",
      "RangeIndex: 4803 entries, 0 to 4802\n",
      "Data columns (total 24 columns):\n",
      " #   Column                Non-Null Count  Dtype  \n",
      "---  ------                --------------  -----  \n",
      " 0   budget                4803 non-null   int64  \n",
      " 1   genres                4803 non-null   object \n",
      " 2   homepage              1712 non-null   object \n",
      " 3   id                    4803 non-null   int64  \n",
      " 4   keywords              4803 non-null   object \n",
      " 5   original_language     4803 non-null   object \n",
      " 6   original_title        4803 non-null   object \n",
      " 7   overview              4800 non-null   object \n",
      " 8   popularity            4803 non-null   float64\n",
      " 9   production_companies  4803 non-null   object \n",
      " 10  production_countries  4803 non-null   object \n",
      " 11  release_date          4802 non-null   object \n",
      " 12  revenue               4803 non-null   int64  \n",
      " 13  runtime               4801 non-null   float64\n",
      " 14  spoken_languages      4803 non-null   object \n",
      " 15  status                4803 non-null   object \n",
      " 16  tagline               3959 non-null   object \n",
      " 17  title_x               4803 non-null   object \n",
      " 18  vote_average          4803 non-null   float64\n",
      " 19  vote_count            4803 non-null   int64  \n",
      " 20  movie_id              4803 non-null   int64  \n",
      " 21  title_y               4803 non-null   object \n",
      " 22  cast                  4803 non-null   object \n",
      " 23  crew                  4803 non-null   object \n",
      "dtypes: float64(3), int64(5), object(16)\n",
      "memory usage: 900.7+ KB\n"
     ]
    }
   ],
   "source": [
    "merged_df.info()"
   ]
  },
  {
   "cell_type": "code",
   "execution_count": 8,
   "id": "29411256",
   "metadata": {},
   "outputs": [],
   "source": [
    "df = merged_df[['id', 'genres', 'keywords', 'overview', 'title_x', 'cast', 'tagline', 'crew', 'production_companies']]"
   ]
  },
  {
   "cell_type": "code",
   "execution_count": 9,
   "id": "a9df4f58",
   "metadata": {},
   "outputs": [],
   "source": [
    "df = df.rename(columns = {'title_x':'title'})"
   ]
  },
  {
   "cell_type": "code",
   "execution_count": 10,
   "id": "49832159",
   "metadata": {},
   "outputs": [
    {
     "data": {
      "text/plain": [
       "'[{\"id\": 28, \"name\": \"Action\"}, {\"id\": 12, \"name\": \"Adventure\"}, {\"id\": 14, \"name\": \"Fantasy\"}, {\"id\": 878, \"name\": \"Science Fiction\"}]'"
      ]
     },
     "execution_count": 10,
     "metadata": {},
     "output_type": "execute_result"
    }
   ],
   "source": [
    "df.loc[0, 'genres']"
   ]
  },
  {
   "cell_type": "code",
   "execution_count": 11,
   "id": "69d277d4",
   "metadata": {},
   "outputs": [],
   "source": [
    "import ast \n",
    "def get_names(value):\n",
    "    x = ast.literal_eval(value)\n",
    "    keywords = []\n",
    "    for obj in x:\n",
    "        name = obj[\"name\"].replace(\" \", \"_\").lower().strip()\n",
    "        if name not in keywords:\n",
    "            keywords.append(name)\n",
    "    return \",\".join(keywords) "
   ]
  },
  {
   "cell_type": "code",
   "execution_count": 12,
   "id": "9baffee4",
   "metadata": {},
   "outputs": [
    {
     "data": {
      "text/plain": [
       "'action,adventure,fantasy,science_fiction'"
      ]
     },
     "execution_count": 12,
     "metadata": {},
     "output_type": "execute_result"
    }
   ],
   "source": [
    "get_names(df.loc[0, \"genres\"])"
   ]
  },
  {
   "cell_type": "code",
   "execution_count": 13,
   "id": "96a2c87e",
   "metadata": {},
   "outputs": [],
   "source": [
    "df[\"genres\"] = df[\"genres\"].apply(get_names)"
   ]
  },
  {
   "cell_type": "code",
   "execution_count": 14,
   "id": "0eb795ec",
   "metadata": {},
   "outputs": [],
   "source": [
    "df[\"keywords\"] = df[\"keywords\"].apply(get_names)"
   ]
  },
  {
   "cell_type": "code",
   "execution_count": 15,
   "id": "2ef72f72",
   "metadata": {},
   "outputs": [],
   "source": [
    "df[\"cast\"] = df[\"cast\"].apply(get_names)"
   ]
  },
  {
   "cell_type": "code",
   "execution_count": 16,
   "id": "737e494f",
   "metadata": {},
   "outputs": [],
   "source": [
    "df[\"crew\"] = df[\"crew\"].apply(get_names)"
   ]
  },
  {
   "cell_type": "code",
   "execution_count": 17,
   "id": "d64c8bc7",
   "metadata": {},
   "outputs": [],
   "source": [
    "df[\"production_companies\"] = df[\"production_companies\"].apply(get_names)"
   ]
  },
  {
   "cell_type": "code",
   "execution_count": 18,
   "id": "1cbbfb75",
   "metadata": {},
   "outputs": [],
   "source": [
    "df[\"overview\"] = df[\"overview\"].apply(lambda x:str(x).replace(\",\", \"\").replace(\" \", \",\").lower())"
   ]
  },
  {
   "cell_type": "code",
   "execution_count": 19,
   "id": "52937fe9",
   "metadata": {},
   "outputs": [],
   "source": [
    "df[\"tagline\"] = df[\"tagline\"].apply(lambda x:str(x).replace(\",\", \"\").replace(\" \", \",\").lower())"
   ]
  },
  {
   "cell_type": "code",
   "execution_count": 20,
   "id": "d90ac328",
   "metadata": {},
   "outputs": [],
   "source": [
    "df[\"tags\"] = df[\"genres\"] + \",\" + df[\"keywords\"] + \",\" + df[\"overview\"] + \",\" + df[\"cast\"] + \",\" + df[\"tagline\"] + \",\" + df[\"crew\"] + df[\"production_companies\"]"
   ]
  },
  {
   "cell_type": "code",
   "execution_count": 21,
   "id": "535d3931",
   "metadata": {},
   "outputs": [],
   "source": [
    "final_df = df[[\"id\", \"title\", \"tags\"]]"
   ]
  },
  {
   "cell_type": "code",
   "execution_count": 22,
   "id": "a229f381",
   "metadata": {},
   "outputs": [],
   "source": [
    "final_df = final_df.dropna()"
   ]
  },
  {
   "cell_type": "code",
   "execution_count": 23,
   "id": "76e3b4a8",
   "metadata": {},
   "outputs": [],
   "source": [
    "final_df.drop_duplicates(inplace = True)"
   ]
  },
  {
   "cell_type": "code",
   "execution_count": 24,
   "id": "1263a0be",
   "metadata": {},
   "outputs": [
    {
     "name": "stdout",
     "output_type": "stream",
     "text": [
      "<class 'pandas.core.frame.DataFrame'>\n",
      "RangeIndex: 4803 entries, 0 to 4802\n",
      "Data columns (total 3 columns):\n",
      " #   Column  Non-Null Count  Dtype \n",
      "---  ------  --------------  ----- \n",
      " 0   id      4803 non-null   int64 \n",
      " 1   title   4803 non-null   object\n",
      " 2   tags    4803 non-null   object\n",
      "dtypes: int64(1), object(2)\n",
      "memory usage: 112.7+ KB\n"
     ]
    }
   ],
   "source": [
    "final_df.info()"
   ]
  },
  {
   "cell_type": "code",
   "execution_count": 25,
   "id": "dbc5df53",
   "metadata": {},
   "outputs": [],
   "source": [
    "# NLTK library\n",
    "# Natural Language Tool Kit"
   ]
  },
  {
   "cell_type": "code",
   "execution_count": 26,
   "id": "c7fe59b2",
   "metadata": {},
   "outputs": [
    {
     "name": "stderr",
     "output_type": "stream",
     "text": [
      "[nltk_data] Downloading package stopwords to C:\\Users\\Sahil Patil\n",
      "[nltk_data]     Pc\\AppData\\Roaming\\nltk_data...\n",
      "[nltk_data]   Package stopwords is already up-to-date!\n",
      "[nltk_data] Downloading package punkt to C:\\Users\\Sahil Patil\n",
      "[nltk_data]     Pc\\AppData\\Roaming\\nltk_data...\n",
      "[nltk_data]   Package punkt is already up-to-date!\n",
      "[nltk_data] Downloading package punkt_tab to C:\\Users\\Sahil Patil\n",
      "[nltk_data]     Pc\\AppData\\Roaming\\nltk_data...\n",
      "[nltk_data]   Package punkt_tab is already up-to-date!\n"
     ]
    },
    {
     "data": {
      "text/plain": [
       "True"
      ]
     },
     "execution_count": 26,
     "metadata": {},
     "output_type": "execute_result"
    }
   ],
   "source": [
    "import nltk\n",
    "from nltk.corpus import stopwords\n",
    "from nltk.tokenize import word_tokenize\n",
    "# Download stopwords if not already available\n",
    "nltk.download('stopwords')\n",
    "nltk.download('punkt')\n",
    "nltk.download('punkt_tab')"
   ]
  },
  {
   "cell_type": "code",
   "execution_count": 27,
   "id": "4492c321",
   "metadata": {},
   "outputs": [
    {
     "name": "stdout",
     "output_type": "stream",
     "text": [
      "{'doesn', 'against', 'on', 'y', 'didn', 'this', \"they're\", 'having', 't', 'mightn', 'no', \"weren't\", 'both', 'yourself', 'mustn', 'these', 'only', 'just', 'some', \"haven't\", 'herself', 'do', 'how', \"i'd\", \"needn't\", 'so', 'll', 'own', \"he's\", 'wasn', 'being', 'while', 'after', 'am', \"they'd\", 'd', \"doesn't\", 'that', \"hadn't\", 'will', 'they', 'not', 'over', 'through', 'off', 'should', \"you'd\", 'she', 'further', 'be', 'than', 'during', 'there', 'into', \"i've\", \"they'll\", \"he'll\", 'about', 'themselves', 'between', 'other', 'at', 'his', 'by', 'ours', 'myself', 'such', 'weren', 's', 'i', \"they've\", 'shouldn', 'hers', \"shan't\", 'have', 'is', 'before', 'has', 'few', \"you're\", 'and', \"couldn't\", 'haven', 'he', \"mustn't\", 'as', 'again', 'itself', \"you'll\", 'me', 'where', \"i'll\", 'down', \"that'll\", 'yourselves', \"aren't\", 'shan', 'did', 'all', 'needn', 'can', 'the', \"mightn't\", \"we've\", 'it', 'our', 'nor', 'yours', 'more', 'm', 'isn', \"it'd\", 'ma', 'theirs', 'are', 'doing', 'won', 'you', 'most', \"i'm\", 'himself', 'its', 'once', 'under', 'in', \"should've\", 'whom', 'does', 'until', \"wasn't\", \"we'd\", 'hadn', 'been', 'couldn', 'what', 'each', 'here', \"she'd\", 'then', 'o', 'wouldn', 'because', \"we'll\", 'who', 'too', \"isn't\", \"wouldn't\", 'a', \"didn't\", 'or', 'an', 'those', 'your', 've', 'from', \"hasn't\", 'when', 'why', 'them', 'if', 'but', 'of', 'ourselves', 're', \"she'll\", 'my', \"it'll\", 'which', \"won't\", 'with', 'was', \"it's\", 'same', 'now', 'very', 'out', \"she's\", 'ain', \"shouldn't\", 'below', 'him', 'don', 'had', 'up', \"you've\", 'for', 'were', 'above', 'aren', 'her', \"we're\", 'to', 'any', 'their', 'hasn', \"don't\", \"he'd\", 'we'}\n"
     ]
    }
   ],
   "source": [
    "stop_words = set(stopwords.words('english'))\n",
    "print(stop_words)"
   ]
  },
  {
   "cell_type": "code",
   "execution_count": 28,
   "id": "07c782e8",
   "metadata": {},
   "outputs": [],
   "source": [
    "def remove_stop_words(text):\n",
    "    # Get the English stopwords list\n",
    "    stop_words = set(stopwords.words('english'))\n",
    "    # Tokenize the sentence\n",
    "    words = text.split(',')\n",
    "    # Remove stopwords\n",
    "    filtered_words = [word for word in words if word.lower() not in stop_words]\n",
    "    # # Convert back to string\n",
    "    filtered_text = \",\".join(filtered_words)\n",
    "    filtered_text = filtered_text.replace(\".\", \"\")\n",
    "    return filtered_text"
   ]
  },
  {
   "cell_type": "code",
   "execution_count": 29,
   "id": "f87a877e",
   "metadata": {},
   "outputs": [],
   "source": [
    "final_df[\"tags\"] = final_df[\"tags\"].apply(remove_stop_words)"
   ]
  },
  {
   "cell_type": "code",
   "execution_count": 30,
   "id": "c8ba1d31",
   "metadata": {},
   "outputs": [
    {
     "data": {
      "text/plain": [
       "\"action,adventure,fantasy,science_fiction,culture_clash,future,space_war,space_colony,society,space_travel,futuristic,romance,space,alien,tribe,alien_planet,cgi,marine,soldier,battle,love_affair,anti_war,power_relations,mind_and_soul,3d,22nd,century,paraplegic,marine,dispatched,moon,pandora,unique,mission,becomes,torn,following,orders,protecting,alien,civilization,sam_worthington,zoe_saldana,sigourney_weaver,stephen_lang,michelle_rodriguez,giovanni_ribisi,joel_david_moore,cch_pounder,wes_studi,laz_alonso,dileep_rao,matt_gerald,sean_anthony_moran,jason_whyte,scott_lawrence,kelly_kilgour,james_patrick_pitt,sean_patrick_murphy,peter_dillon,kevin_dorman,kelson_henderson,david_van_horn,jacob_tomuri,michael_blain-rozgay,jon_curry,luke_hawker,woody_schultz,peter_mensah,sonia_yee,jahnel_curfman,ilram_choi,kyla_warren,lisa_roumain,debra_wilson,chris_mala,taylor_kibby,jodie_landau,julie_lamm,cullen_b_madden,joseph_brady_madden,frankie_torres,austin_wilson,sara_wilson,tamica_washington-miller,lucy_briant,nathan_meister,gerry_blair,matthew_chamberlain,paul_yates,wray_wilson,james_gaylyn,melvin_leno_clark_iii,carvon_futrell,brandon_jelkes,micah_moch,hanniyah_muhammad,christopher_nolen,christa_oliver,april_marie_thomas,bravita_a_threatt,colin_bleasdale,mike_bodnar,matt_clayton,nicole_dionne,jamie_harrison,allan_henry,anthony_ingruber,ashley_jeffery,dean_knowsley,joseph_mika-hunt,terry_notary,kai_pantano,logan_pithyou,stuart_pollock,raja,gareth_ruck,rhian_sheehan,t_j_storm,jodie_taylor,alicia_vela-bailey,richard_whiteside,nikie_zambo,julene_renee,enter,world,pandora,stephen_e_rivkin,rick_carter,christopher_boyes,mali_finn,james_horner,james_cameron,andrew_menzies,jill_brooks,margery_simkin,kevin_ishioka,dick_bernstein,shannon_mills,dennie_thorpe,jana_vance,deborah_lynn_scott,jon_landau,sean_haworth,kim_sinclair,richard_f_mays,laeta_kalogridis,mayes_c_rubeo,mauro_fiore,scott_herbertson,woody_schultz,linda_devetta,richard_bluck,simon_bright,richard_martin,steve_r_moore,john_refoua,karl_j_martin,chiling_lin,ilram_choi,steven_quale,carla_meyer,nick_bassett,jill_cormack,andy_mclaren,terry_notary,garrett_warren,jonathan_rothbart,stefan_dechant,todd_cherniawsky,miranda_rivers,robert_stromberg,john_harding,roberto_de_angelis,mike_smithson,alain_lalanne,lucas_salton,janace_tashjian,stephen_rosenbaum,frankie_karena,lisa_lovaas,jonathan_fawkner,robert_bavin,anthony_almaraz,carolyn_m_fenton,beth_koenigsberg,sam_page,tex_kadonaga,kim_foscato,tammy_s_lee,denny_caira,james_waitkus,addison_teague,c_scott_baker,luke_caska,david_chow,jonathan_dyer,joseph_hiura,rebecca_jellie,robert_andrew_johnson,mike_stassi,john_villarino,jeffrey_wisniewski,cheryl_nardi,marshall_winn,gwendolyn_yates_whittle,william_stein,lula_washington,chris_del_conte,r_christopher_white,dan_lemmon,tim_nielsen,michael_mulholland,thomas_nittmann,edson_williams,christine_carr,john_bruno,david_emmerichs,christopher_scarabosio,jennifer_teves,brigitte_yorke,ken_fischer,iain_hutton,steve_ingram,joyce_cox,jenny_foster,christopher_marino,jim_milton,cyndi_ochs,lucas_putnam,anthony_'max'_ivins,john_knoll,eric_saindon,wayne_stables,david_stinnett,guy_williams,stuart_thorp,giles_coburn,mark_fellman,scott_sprague,jeremy_hollobon,orlando_meunier,taisuke_tanimura,lilia_mishel_acevedo,alejandro_m_hernandez,marvin_hall,judy_alley,mike_perry,andrew_morley,seth_engstrom,eric_oliver,matsune_suzuki,paul_tobin,roxane_griffin,arun_ram-mohan,georgia_lockhart-adams,thrain_shadbolt,brad_alexander,shadi_almassizadeh,simon_clutterbuck,graeme_demmocks,adrian_fernandes,mitch_gates,jerry_kung,andy_lomas,sebastian_marino,matthias_menz,sergei_nevshupov,philippe_rebours,michael_takarangi,david_weitzberg,ben_white,min_windleingenious_film_partners,twentieth_century_fox_film_corporation,dune_entertainment,lightstorm_entertainment\""
      ]
     },
     "execution_count": 30,
     "metadata": {},
     "output_type": "execute_result"
    }
   ],
   "source": [
    "final_df.loc[0, 'tags']"
   ]
  },
  {
   "cell_type": "code",
   "execution_count": 31,
   "id": "e81d2586",
   "metadata": {},
   "outputs": [],
   "source": [
    "final_df.to_csv(\"cleaned_data.csv\")"
   ]
  },
  {
   "cell_type": "code",
   "execution_count": null,
   "id": "99e18dc9",
   "metadata": {},
   "outputs": [],
   "source": []
  }
 ],
 "metadata": {
  "kernelspec": {
   "display_name": "Python 3 (ipykernel)",
   "language": "python",
   "name": "python3"
  },
  "language_info": {
   "codemirror_mode": {
    "name": "ipython",
    "version": 3
   },
   "file_extension": ".py",
   "mimetype": "text/x-python",
   "name": "python",
   "nbconvert_exporter": "python",
   "pygments_lexer": "ipython3",
   "version": "3.11.5"
  }
 },
 "nbformat": 4,
 "nbformat_minor": 5
}
