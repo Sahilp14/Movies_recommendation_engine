{
 "cells": [
  {
   "cell_type": "code",
   "execution_count": 1,
   "id": "a24ea34e",
   "metadata": {},
   "outputs": [],
   "source": [
    "import numpy as np\n",
    "import pandas as pd"
   ]
  },
  {
   "cell_type": "code",
   "execution_count": 2,
   "id": "161b41e8",
   "metadata": {},
   "outputs": [],
   "source": [
    "ds = pd.read_csv('cleaned_data.csv')"
   ]
  },
  {
   "cell_type": "code",
   "execution_count": null,
   "id": "890691cf",
   "metadata": {},
   "outputs": [],
   "source": []
  },
  {
   "cell_type": "code",
   "execution_count": 3,
   "id": "50ceff51",
   "metadata": {},
   "outputs": [],
   "source": [
    "# for i in ds.index:\n",
    "#     print(ds.loc[i, \"title\"], \"-\", ds.loc[i, \"tags\"].count(\",\"))"
   ]
  },
  {
   "cell_type": "code",
   "execution_count": 4,
   "id": "b0a0c6d9",
   "metadata": {},
   "outputs": [
    {
     "data": {
      "text/html": [
       "<div>\n",
       "<style scoped>\n",
       "    .dataframe tbody tr th:only-of-type {\n",
       "        vertical-align: middle;\n",
       "    }\n",
       "\n",
       "    .dataframe tbody tr th {\n",
       "        vertical-align: top;\n",
       "    }\n",
       "\n",
       "    .dataframe thead th {\n",
       "        text-align: right;\n",
       "    }\n",
       "</style>\n",
       "<table border=\"1\" class=\"dataframe\">\n",
       "  <thead>\n",
       "    <tr style=\"text-align: right;\">\n",
       "      <th></th>\n",
       "      <th>Unnamed: 0</th>\n",
       "      <th>id</th>\n",
       "      <th>title</th>\n",
       "      <th>tags</th>\n",
       "    </tr>\n",
       "  </thead>\n",
       "  <tbody>\n",
       "    <tr>\n",
       "      <th>0</th>\n",
       "      <td>0</td>\n",
       "      <td>19995</td>\n",
       "      <td>Avatar</td>\n",
       "      <td>action,adventure,fantasy,science_fiction,cultu...</td>\n",
       "    </tr>\n",
       "    <tr>\n",
       "      <th>1</th>\n",
       "      <td>1</td>\n",
       "      <td>285</td>\n",
       "      <td>Pirates of the Caribbean: At World's End</td>\n",
       "      <td>adventure,fantasy,action,ocean,drug_abuse,exot...</td>\n",
       "    </tr>\n",
       "    <tr>\n",
       "      <th>2</th>\n",
       "      <td>2</td>\n",
       "      <td>206647</td>\n",
       "      <td>Spectre</td>\n",
       "      <td>action,adventure,crime,spy,based_on_novel,secr...</td>\n",
       "    </tr>\n",
       "    <tr>\n",
       "      <th>3</th>\n",
       "      <td>3</td>\n",
       "      <td>49026</td>\n",
       "      <td>The Dark Knight Rises</td>\n",
       "      <td>action,crime,drama,thriller,dc_comics,crime_fi...</td>\n",
       "    </tr>\n",
       "    <tr>\n",
       "      <th>4</th>\n",
       "      <td>4</td>\n",
       "      <td>49529</td>\n",
       "      <td>John Carter</td>\n",
       "      <td>action,adventure,science_fiction,based_on_nove...</td>\n",
       "    </tr>\n",
       "  </tbody>\n",
       "</table>\n",
       "</div>"
      ],
      "text/plain": [
       "   Unnamed: 0      id                                     title  \\\n",
       "0           0   19995                                    Avatar   \n",
       "1           1     285  Pirates of the Caribbean: At World's End   \n",
       "2           2  206647                                   Spectre   \n",
       "3           3   49026                     The Dark Knight Rises   \n",
       "4           4   49529                               John Carter   \n",
       "\n",
       "                                                tags  \n",
       "0  action,adventure,fantasy,science_fiction,cultu...  \n",
       "1  adventure,fantasy,action,ocean,drug_abuse,exot...  \n",
       "2  action,adventure,crime,spy,based_on_novel,secr...  \n",
       "3  action,crime,drama,thriller,dc_comics,crime_fi...  \n",
       "4  action,adventure,science_fiction,based_on_nove...  "
      ]
     },
     "execution_count": 4,
     "metadata": {},
     "output_type": "execute_result"
    }
   ],
   "source": [
    "ds.head()"
   ]
  },
  {
   "cell_type": "code",
   "execution_count": 5,
   "id": "1f19b280",
   "metadata": {},
   "outputs": [],
   "source": [
    "from sklearn.feature_extraction.text import CountVectorizer\n",
    "cv = CountVectorizer(max_features=5000, stop_words='english')"
   ]
  },
  {
   "cell_type": "code",
   "execution_count": 6,
   "id": "87d09f2b",
   "metadata": {},
   "outputs": [],
   "source": [
    "vector = cv.fit_transform(ds['tags']).toarray()"
   ]
  },
  {
   "cell_type": "code",
   "execution_count": 7,
   "id": "b777c429",
   "metadata": {},
   "outputs": [
    {
     "data": {
      "text/plain": [
       "(4803, 5000)"
      ]
     },
     "execution_count": 7,
     "metadata": {},
     "output_type": "execute_result"
    }
   ],
   "source": [
    "vector.shape"
   ]
  },
  {
   "cell_type": "code",
   "execution_count": 8,
   "id": "934d3612",
   "metadata": {},
   "outputs": [],
   "source": [
    "from sklearn.metrics.pairwise import cosine_similarity"
   ]
  },
  {
   "cell_type": "code",
   "execution_count": 9,
   "id": "879ce6c7",
   "metadata": {},
   "outputs": [],
   "source": [
    "similarity = cosine_similarity(vector)"
   ]
  },
  {
   "cell_type": "code",
   "execution_count": 10,
   "id": "ff015a94",
   "metadata": {},
   "outputs": [
    {
     "data": {
      "text/plain": [
       "array([[1.        , 0.09451456, 0.03053524, ..., 0.03922323, 0.02067246,\n",
       "        0.        ],\n",
       "       [0.09451456, 1.        , 0.06253054, ..., 0.04016097, 0.02116669,\n",
       "        0.        ],\n",
       "       [0.03053524, 0.06253054, 1.        , ..., 0.01946247, 0.        ,\n",
       "        0.        ],\n",
       "       ...,\n",
       "       [0.03922323, 0.04016097, 0.01946247, ..., 1.        , 0.07905694,\n",
       "        0.07905694],\n",
       "       [0.02067246, 0.02116669, 0.        , ..., 0.07905694, 1.        ,\n",
       "        0.08333333],\n",
       "       [0.        , 0.        , 0.        , ..., 0.07905694, 0.08333333,\n",
       "        1.        ]])"
      ]
     },
     "execution_count": 10,
     "metadata": {},
     "output_type": "execute_result"
    }
   ],
   "source": [
    "similarity"
   ]
  },
  {
   "cell_type": "code",
   "execution_count": 11,
   "id": "1c053e1b",
   "metadata": {},
   "outputs": [
    {
     "data": {
      "text/plain": [
       "(4803, 4803)"
      ]
     },
     "execution_count": 11,
     "metadata": {},
     "output_type": "execute_result"
    }
   ],
   "source": [
    "similarity.shape"
   ]
  },
  {
   "cell_type": "code",
   "execution_count": 20,
   "id": "8977241c",
   "metadata": {},
   "outputs": [],
   "source": [
    "def get_movie_index(name):\n",
    "    movie_ds_index = -1\n",
    "    for i in ds.index:\n",
    "        if ds.loc[i, \"title\"].lower() == name.lower():\n",
    "            movie_ds_index = i\n",
    "            break\n",
    "    return movie_ds_index\n",
    "\n",
    "def get_movie_name(index):\n",
    "    return ds.loc[index, \"title\"]"
   ]
  },
  {
   "cell_type": "code",
   "execution_count": 21,
   "id": "e0a9d8d0",
   "metadata": {},
   "outputs": [
    {
     "data": {
      "text/plain": [
       "'The Curious Case of Benjamin Button'"
      ]
     },
     "execution_count": 21,
     "metadata": {},
     "output_type": "execute_result"
    }
   ],
   "source": [
    "get_movie_name(100)"
   ]
  },
  {
   "cell_type": "code",
   "execution_count": 17,
   "id": "f1d36eef",
   "metadata": {},
   "outputs": [],
   "source": [
    "def get_movie_recommendation(name):\n",
    "    mindex = get_movie_index(name)\n",
    "    if mindex == -1:    \n",
    "        return []\n",
    "    else:\n",
    "        similarity_indexes = list(enumerate(similarity[mindex]))\n",
    "        similarity_indexes = sorted(similarity_indexes, key=lambda x: x[1], reverse=True)\n",
    "        r_movies = []\n",
    "        for i in range(1, 6):\n",
    "            r_movies.append(get_movie_name(similarity_indexes[i][0]))\n",
    "    return r_movies"
   ]
  },
  {
   "cell_type": "code",
   "execution_count": 24,
   "id": "0977c4dc",
   "metadata": {},
   "outputs": [
    {
     "name": "stdout",
     "output_type": "stream",
     "text": [
      "Enter movie you watched:The Avengers\n",
      "Recommended Movies\n",
      "1. Avengers: Age of Ultron\n",
      "2. Iron Man 3\n",
      "3. Iron Man\n",
      "4. Iron Man 2\n",
      "5. Thor: The Dark World\n"
     ]
    }
   ],
   "source": [
    "name = input(\"Enter movie you watched:\")\n",
    "movies = get_movie_recommendation(name)\n",
    "if len(movies) == 0:\n",
    "    print(\"Sorry no recommendation found\")\n",
    "else:\n",
    "    print(\"Recommended Movies\")\n",
    "    count = 1\n",
    "    for movie in movies:\n",
    "        print(str(count) + \". \" + movie)\n",
    "        count += 1"
   ]
  },
  {
   "cell_type": "code",
   "execution_count": null,
   "id": "6e3aa6fa",
   "metadata": {},
   "outputs": [],
   "source": []
  }
 ],
 "metadata": {
  "kernelspec": {
   "display_name": "Python 3 (ipykernel)",
   "language": "python",
   "name": "python3"
  },
  "language_info": {
   "codemirror_mode": {
    "name": "ipython",
    "version": 3
   },
   "file_extension": ".py",
   "mimetype": "text/x-python",
   "name": "python",
   "nbconvert_exporter": "python",
   "pygments_lexer": "ipython3",
   "version": "3.11.5"
  }
 },
 "nbformat": 4,
 "nbformat_minor": 5
}
